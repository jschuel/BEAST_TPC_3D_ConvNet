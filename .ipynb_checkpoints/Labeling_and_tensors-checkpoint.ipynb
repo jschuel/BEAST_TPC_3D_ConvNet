{
 "cells": [
  {
   "cell_type": "markdown",
   "metadata": {},
   "source": [
    "# Code to generate tensors for 3DCNN Head-tail classification\n",
    "We use a small sample of simulated He recoil events for demonstration purposes"
   ]
  },
  {
   "cell_type": "code",
   "execution_count": 1,
   "metadata": {},
   "outputs": [
    {
     "ename": "ModuleNotFoundError",
     "evalue": "No module named 'ROOT'",
     "output_type": "error",
     "traceback": [
      "\u001b[0;31m---------------------------------------------------------------------------\u001b[0m",
      "\u001b[0;31mModuleNotFoundError\u001b[0m                       Traceback (most recent call last)",
      "Input \u001b[0;32mIn [1]\u001b[0m, in \u001b[0;36m<cell line: 6>\u001b[0;34m()\u001b[0m\n\u001b[1;32m      4\u001b[0m \u001b[38;5;28;01mfrom\u001b[39;00m \u001b[38;5;21;01mtqdm\u001b[39;00m \u001b[38;5;28;01mimport\u001b[39;00m tqdm\n\u001b[1;32m      5\u001b[0m \u001b[38;5;28;01mfrom\u001b[39;00m \u001b[38;5;21;01mnumba\u001b[39;00m \u001b[38;5;28;01mimport\u001b[39;00m jit\n\u001b[0;32m----> 6\u001b[0m \u001b[38;5;28;01mimport\u001b[39;00m \u001b[38;5;21;01mROOT\u001b[39;00m\n\u001b[1;32m      7\u001b[0m \u001b[38;5;28;01mfrom\u001b[39;00m \u001b[38;5;21;01mROOT\u001b[39;00m \u001b[38;5;28;01mimport\u001b[39;00m TVector3\n\u001b[1;32m      8\u001b[0m \u001b[38;5;28;01mimport\u001b[39;00m \u001b[38;5;21;01mtorch\u001b[39;00m\n",
      "\u001b[0;31mModuleNotFoundError\u001b[0m: No module named 'ROOT'"
     ]
    }
   ],
   "source": [
    "import pandas as pd\n",
    "import numpy as np\n",
    "import matplotlib.pyplot as plt\n",
    "from tqdm import tqdm\n",
    "from numba import jit\n",
    "import ROOT\n",
    "from ROOT import TVector3\n",
    "import torch"
   ]
  },
  {
   "cell_type": "markdown",
   "metadata": {},
   "source": [
    "### Read test data"
   ]
  },
  {
   "cell_type": "code",
   "execution_count": null,
   "metadata": {},
   "outputs": [],
   "source": [
    "df = pd.read_feather(\"data/test.feather\")"
   ]
  },
  {
   "cell_type": "markdown",
   "metadata": {},
   "source": [
    "### Shift events to origin of chip\n",
    "3D Convolutional neural networks are translationally invariant!"
   ]
  },
  {
   "cell_type": "code",
   "execution_count": 35,
   "metadata": {},
   "outputs": [],
   "source": [
    "df['col_shift'] = df['column'].apply(lambda x: x-x.min())\n",
    "df['row_shift'] = df['row'].apply(lambda x: x-x.min())\n",
    "df['BCID_shift'] = df['BCID'].apply(lambda x: x-x.min())"
   ]
  },
  {
   "cell_type": "markdown",
   "metadata": {},
   "source": [
    "### Determine truth direction and truth cos(theta) and truth cos(phi)"
   ]
  },
  {
   "cell_type": "code",
   "execution_count": 36,
   "metadata": {},
   "outputs": [],
   "source": [
    "vecs = []\n",
    "for x,y,z in zip(df['truth_px_dir'],df['truth_py_dir'],df['truth_pz_dir']):\n",
    "    vecs.append(TVector3(x,y,z))\n",
    "df['truth_vec'] = vecs\n",
    "df['truth_costheta'] = df['truth_vec'].apply(lambda x: np.cos(x.Theta()))\n",
    "df['truth_cosphi'] = df['truth_vec'].apply(lambda x: np.cos(x.Phi()))"
   ]
  },
  {
   "cell_type": "code",
   "execution_count": 37,
   "metadata": {},
   "outputs": [],
   "source": [
    "@jit(nopython=True)\n",
    "def get_PA(data):\n",
    "    uu, dd, vv = np.linalg.svd(data-np.array([data[:,0].mean(),data[:,1].mean(),data[:,2].mean()]))\n",
    "    projection = (data @ vv.T).T[0]\n",
    "    return projection, vv[0]"
   ]
  },
  {
   "cell_type": "code",
   "execution_count": 39,
   "metadata": {},
   "outputs": [
    {
     "name": "stderr",
     "output_type": "stream",
     "text": [
      "100%|██████████| 1000/1000 [00:00<00:00, 1446.10it/s]\n"
     ]
    }
   ],
   "source": [
    "project = []\n",
    "vecs = []\n",
    "projectt = [] #truth matched\n",
    "vecst = [] #truth matched\n",
    "for i in tqdm(range(0,len(df))):\n",
    "    test = np.concatenate([[df['x'][i].T,df['y'][i].T,df['z'][i].T]]).T\n",
    "    test_truth = np.concatenate([[df['truth_x'][i].T,df['truth_y'][i].T,df['truth_z'][i].T]]).T\n",
    "    proj, vec = get_PA(test)\n",
    "    projt, vect = get_PA(test_truth)\n",
    "    project.append(proj)\n",
    "    vecs.append(vec) #principal axis direction\n",
    "    projectt.append(projt)\n",
    "    vecst.append(vect)\n",
    "df['proj'] = project\n",
    "df['vec'] = vecs #direction along PA\n",
    "df['proj_truth'] = projectt\n",
    "df['vec_truth'] = vecst"
   ]
  },
  {
   "cell_type": "markdown",
   "metadata": {},
   "source": [
    "### Randomize order so that any correlations from simulation are gone"
   ]
  },
  {
   "cell_type": "code",
   "execution_count": 40,
   "metadata": {},
   "outputs": [],
   "source": [
    "np.random.seed(1)\n",
    "df = df.sample(frac=1)\n",
    "df['original_index'] = df.index\n",
    "df.index = [i for i in range(0,len(df))]"
   ]
  },
  {
   "cell_type": "code",
   "execution_count": 41,
   "metadata": {},
   "outputs": [],
   "source": [
    "for key in ['col','row','BCID']:\n",
    "    nkey = '%s_new'%(key)\n",
    "    df[nkey] = df['%s_shift'%(key)]\n",
    "    df[nkey] = df[nkey].apply(lambda x: x.astype('uint8'))"
   ]
  },
  {
   "cell_type": "code",
   "execution_count": 42,
   "metadata": {},
   "outputs": [],
   "source": [
    "df['charge_new'] = df['tot'].apply(lambda x: x.astype('uint8'))"
   ]
  },
  {
   "cell_type": "markdown",
   "metadata": {},
   "source": [
    "## Make labels\n",
    "\n",
    "We assign labels based on the phi hemisphere of the true primary recoil. Events with cos(phi) < 0 are labeled 1 and events with cos(phi) > 0 are labeled 0"
   ]
  },
  {
   "cell_type": "code",
   "execution_count": 43,
   "metadata": {},
   "outputs": [
    {
     "name": "stderr",
     "output_type": "stream",
     "text": [
      "/home/jeff/anaconda3/envs/root_env/lib/python3.6/site-packages/ipykernel_launcher.py:3: SettingWithCopyWarning: \n",
      "A value is trying to be set on a copy of a slice from a DataFrame\n",
      "\n",
      "See the caveats in the documentation: https://pandas.pydata.org/pandas-docs/stable/user_guide/indexing.html#returning-a-view-versus-a-copy\n",
      "  This is separate from the ipykernel package so we can avoid doing imports until\n",
      "/home/jeff/anaconda3/envs/root_env/lib/python3.6/site-packages/pandas/core/indexing.py:670: SettingWithCopyWarning: \n",
      "A value is trying to be set on a copy of a slice from a DataFrame\n",
      "\n",
      "See the caveats in the documentation: https://pandas.pydata.org/pandas-docs/stable/user_guide/indexing.html#returning-a-view-versus-a-copy\n",
      "  iloc._setitem_with_indexer(indexer, value)\n"
     ]
    }
   ],
   "source": [
    "df['label'] = 1\n",
    "index = df.query('truth_cosphi > 0').index.to_numpy()\n",
    "df['label'][index] = 0"
   ]
  },
  {
   "cell_type": "markdown",
   "metadata": {},
   "source": [
    "# Create and save voxelgrids"
   ]
  },
  {
   "cell_type": "code",
   "execution_count": 44,
   "metadata": {},
   "outputs": [],
   "source": [
    "def voxelize_sparse(df, dim = (34,170,34)):\n",
    "    voxels = []\n",
    "    for i in tqdm(range(0,len(df))):\n",
    "        voxelgrid = np.zeros(dim) #treat voxel locations as indices\n",
    "        for x, y, z,tot in zip(df['col_new'].iloc[i], df['row_new'].iloc[i], df['BCID_new'].iloc[i], df['charge_new'].iloc[i]):\n",
    "            try:\n",
    "                voxelgrid[x][y][z] += tot\n",
    "            except IndexError:\n",
    "                continue\n",
    "        voxelgrid = voxelgrid.astype('uint8')\n",
    "        #if i %10000 == 0:\n",
    "        #    print(i)\n",
    "        voxelgrid = torch.tensor(voxelgrid).to_sparse() #need to unsqueeze later\n",
    "        torch.save((voxelgrid,df['label'].iloc[i]),'tensors/%s.pt'%(i))\n",
    "    return df"
   ]
  },
  {
   "cell_type": "code",
   "execution_count": 45,
   "metadata": {},
   "outputs": [
    {
     "name": "stderr",
     "output_type": "stream",
     "text": [
      "100%|██████████| 1000/1000 [00:01<00:00, 758.97it/s]\n"
     ]
    }
   ],
   "source": [
    "df = voxelize_sparse(df)"
   ]
  },
  {
   "cell_type": "markdown",
   "metadata": {},
   "source": [
    "### Save track info with new event ordering\n",
    "We remove the raw hits to save space"
   ]
  },
  {
   "cell_type": "code",
   "execution_count": 46,
   "metadata": {},
   "outputs": [],
   "source": [
    "df[[col for col in df.columns if df[col].dtype != 'O']].to_feather('data/test_tracks_only.feather')"
   ]
  }
 ],
 "metadata": {
  "kernelspec": {
   "display_name": "Python 3 (ipykernel)",
   "language": "python",
   "name": "python3"
  },
  "language_info": {
   "codemirror_mode": {
    "name": "ipython",
    "version": 3
   },
   "file_extension": ".py",
   "mimetype": "text/x-python",
   "name": "python",
   "nbconvert_exporter": "python",
   "pygments_lexer": "ipython3",
   "version": "3.9.12"
  }
 },
 "nbformat": 4,
 "nbformat_minor": 4
}
