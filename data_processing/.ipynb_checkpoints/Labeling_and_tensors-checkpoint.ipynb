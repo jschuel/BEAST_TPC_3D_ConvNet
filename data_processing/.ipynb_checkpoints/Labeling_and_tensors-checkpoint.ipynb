{
 "cells": [
  {
   "cell_type": "markdown",
   "metadata": {},
   "source": [
    "# Code to generate tensors for 3DCNN Head-tail classification\n",
    "We use a small sample of simulated He recoil events for demonstration purposes"
   ]
  },
  {
   "cell_type": "code",
   "execution_count": 1,
   "metadata": {},
   "outputs": [],
   "source": [
    "import pandas as pd\n",
    "import numpy as np\n",
    "import matplotlib.pyplot as plt\n",
    "from tqdm import tqdm\n",
    "from numba import jit\n",
    "import torch"
   ]
  },
  {
   "cell_type": "markdown",
   "metadata": {},
   "source": [
    "### Read sample data"
   ]
  },
  {
   "cell_type": "code",
   "execution_count": 2,
   "metadata": {},
   "outputs": [],
   "source": [
    "df = pd.read_feather(\"../data/sample.feather\")"
   ]
  },
  {
   "cell_type": "markdown",
   "metadata": {},
   "source": [
    "### Shift events to origin of chip\n",
    "Standardize location of events. Column, row, and BCID are binned x, y, and z coordinates, respectively"
   ]
  },
  {
   "cell_type": "code",
   "execution_count": 3,
   "metadata": {},
   "outputs": [],
   "source": [
    "df['col_shift'] = df['column'].apply(lambda x: x-x.min())\n",
    "df['row_shift'] = df['row'].apply(lambda x: x-x.min())\n",
    "df['BCID_shift'] = df['BCID'].apply(lambda x: x-x.min())"
   ]
  },
  {
   "cell_type": "markdown",
   "metadata": {},
   "source": [
    "### Determine truth direction and truth cos(theta) and truth cos(phi)\n",
    "\n",
    "We train the 3DCNN using truth cos(phi) as our labels. This means our classifier determines whether the track points in the +x or -x \"hemisphere.\""
   ]
  },
  {
   "cell_type": "code",
   "execution_count": 4,
   "metadata": {},
   "outputs": [],
   "source": [
    "### truth_vec is the true direction of the recoil track and is determined using \n",
    "### simulation such as in my BEAST_TPC_Fast_Digitizer repo\n",
    "\n",
    "vecs = []\n",
    "zhat = np.array([0,0,1])\n",
    "df['truth_costheta'] = df['truth_vec'].apply(lambda x: np.dot(x,zhat)/np.linalg.norm(x)) # (vec . zhat)/|vec| = cos(theta)\n",
    "df['truth_cosphi'] = df['truth_vec'].apply(lambda x: np.cos(np.arctan2(x[1],x[0]))) # phi = arctan(y/x) of a vector"
   ]
  },
  {
   "cell_type": "markdown",
   "metadata": {},
   "source": [
    "### Randomize order of events to be thorough"
   ]
  },
  {
   "cell_type": "code",
   "execution_count": 5,
   "metadata": {},
   "outputs": [],
   "source": [
    "np.random.seed(1)\n",
    "df = df.sample(frac=1)\n",
    "df['original_index'] = df.index\n",
    "df.index = [i for i in range(0,len(df))]"
   ]
  },
  {
   "cell_type": "code",
   "execution_count": 6,
   "metadata": {},
   "outputs": [],
   "source": [
    "# TOT is a 4-bit code our detectors read out that represents a quantized charge scale.\n",
    "# Possible TOT values range from 0 to 13, however TOT = 0 does not represent 0 charge, so we\n",
    "# add 1 to our TOT, so that TOT = 0 is distinct from actual bins without charge\n",
    "\n",
    "df['charge_new'] = df['tot'].apply(lambda x: x.astype('uint8'))+1 #Add 1 to "
   ]
  },
  {
   "cell_type": "markdown",
   "metadata": {},
   "source": [
    "## Make labels\n",
    "\n",
    "We assign labels based on the phi hemisphere of the true primary recoil. Events with cos(phi) < 0 are labeled 1 and events with cos(phi) > 0 are labeled 0"
   ]
  },
  {
   "cell_type": "code",
   "execution_count": 7,
   "metadata": {},
   "outputs": [
    {
     "name": "stderr",
     "output_type": "stream",
     "text": [
      "/home/jeff/anaconda3/envs/root_env/lib/python3.6/site-packages/ipykernel_launcher.py:3: SettingWithCopyWarning: \n",
      "A value is trying to be set on a copy of a slice from a DataFrame\n",
      "\n",
      "See the caveats in the documentation: https://pandas.pydata.org/pandas-docs/stable/user_guide/indexing.html#returning-a-view-versus-a-copy\n",
      "  This is separate from the ipykernel package so we can avoid doing imports until\n",
      "/home/jeff/anaconda3/envs/root_env/lib/python3.6/site-packages/pandas/core/indexing.py:670: SettingWithCopyWarning: \n",
      "A value is trying to be set on a copy of a slice from a DataFrame\n",
      "\n",
      "See the caveats in the documentation: https://pandas.pydata.org/pandas-docs/stable/user_guide/indexing.html#returning-a-view-versus-a-copy\n",
      "  iloc._setitem_with_indexer(indexer, value)\n"
     ]
    }
   ],
   "source": [
    "df['label'] = 1\n",
    "index = df.query('truth_cosphi > 0').index.to_numpy()\n",
    "df['label'][index] = 0"
   ]
  },
  {
   "cell_type": "markdown",
   "metadata": {},
   "source": [
    "# Create and save voxelgrids\n",
    "\n",
    "We store our voxelgrids as sparse tensors to save diskspace. Our 3D tensor images are mostly filled with 0's so storing as sparase tensors may lead to a nearly 100-fold reduction in average filesize depending on the application at hand"
   ]
  },
  {
   "cell_type": "code",
   "execution_count": 8,
   "metadata": {},
   "outputs": [],
   "source": [
    "def voxelize_sparse(df, dim = (22,110,22)):\n",
    "    voxels = []\n",
    "    for i in tqdm(range(0,len(df))):\n",
    "        voxelgrid = np.zeros(dim) #treat voxel locations as indices\n",
    "        for x, y, z,tot in zip(df['col_shift'].iloc[i], df['row_shift'].iloc[i], \n",
    "                               df['BCID_shift'].iloc[i], df['charge_new'].iloc[i]):\n",
    "            try:\n",
    "                voxelgrid[x][y][z] += tot\n",
    "            except IndexError:\n",
    "                continue\n",
    "        voxelgrid = voxelgrid.astype('uint8')\n",
    "        voxelgrid = torch.tensor(voxelgrid).to_sparse() #need to unsqueeze later\n",
    "        torch.save((voxelgrid,df['label'].iloc[i]),'../tensors/%s.pt'%(i))\n",
    "    return df"
   ]
  },
  {
   "cell_type": "code",
   "execution_count": 9,
   "metadata": {},
   "outputs": [
    {
     "name": "stderr",
     "output_type": "stream",
     "text": [
      "100%|██████████████████████████████████████████████████████████████████████████████████████████████████████████████████████████████████████████████████████████████| 10000/10000 [00:06<00:00, 1618.94it/s]\n"
     ]
    }
   ],
   "source": [
    "df = voxelize_sparse(df)"
   ]
  },
  {
   "cell_type": "markdown",
   "metadata": {},
   "source": [
    "### Save track info with new event ordering\n",
    "We remove the raw hits to save space and analysis time. This is especially important with large samples of TPC data."
   ]
  },
  {
   "cell_type": "code",
   "execution_count": 10,
   "metadata": {},
   "outputs": [],
   "source": [
    "#All of the arrays in our dataframe represent individual pixel hits. These pixel hits are now\n",
    "#contained in the saved tensors, so we don't need them in the dataframe we use for analysis after\n",
    "#training and evaluating our 3DCNN\n",
    "\n",
    "df[[col for col in df.columns if df[col].dtype != 'O']].to_feather('../data/sample_noHits.feather')"
   ]
  },
  {
   "cell_type": "code",
   "execution_count": null,
   "metadata": {},
   "outputs": [],
   "source": []
  }
 ],
 "metadata": {
  "kernelspec": {
   "display_name": "Python 3",
   "language": "python",
   "name": "python3"
  },
  "language_info": {
   "codemirror_mode": {
    "name": "ipython",
    "version": 3
   },
   "file_extension": ".py",
   "mimetype": "text/x-python",
   "name": "python",
   "nbconvert_exporter": "python",
   "pygments_lexer": "ipython3",
   "version": "3.6.13"
  }
 },
 "nbformat": 4,
 "nbformat_minor": 4
}
